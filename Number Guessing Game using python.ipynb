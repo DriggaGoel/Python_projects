{
  "nbformat": 4,
  "nbformat_minor": 0,
  "metadata": {
    "colab": {
      "provenance": [],
      "authorship_tag": "ABX9TyMaK2rYcyZ/s5FyOZsKxrCX",
      "include_colab_link": true
    },
    "kernelspec": {
      "name": "python3",
      "display_name": "Python 3"
    },
    "language_info": {
      "name": "python"
    }
  },
  "cells": [
    {
      "cell_type": "markdown",
      "metadata": {
        "id": "view-in-github",
        "colab_type": "text"
      },
      "source": [
        "<a href=\"https://colab.research.google.com/github/DriggaGoel/Python_projects/blob/DriggaGoel%2FCredit_Card_Financial_Dashboard/Number%20Guessing%20Game%20using%20python.ipynb\" target=\"_parent\"><img src=\"https://colab.research.google.com/assets/colab-badge.svg\" alt=\"Open In Colab\"/></a>"
      ]
    },
    {
      "cell_type": "code",
      "execution_count": 1,
      "metadata": {
        "id": "CXDK3q5qzNh8"
      },
      "outputs": [],
      "source": [
        "import random\n",
        "import math"
      ]
    },
    {
      "cell_type": "code",
      "source": [
        "lower = int(input(\"Enter a lower range: \"))\n",
        "upper = int(input(\"Enter an upper range: \"))\n",
        "x=random.randint(lower,upper)\n",
        "y=round(math.log(upper-lower+1,2))\n",
        "print(\"You have only \", round(math.log(upper-lower+1,2)),\" chances to guess the integer\")\n",
        "count=0\n",
        "while count<y:\n",
        "  count +=1\n",
        "  guess = int(input(\"Guess a number:- \"))\n",
        "  if x == guess:\n",
        "    print(\"Congratulations you guessed it in \", count , \"attempt\")\n",
        "    break\n",
        "  elif x>guess:\n",
        "    print(\"Try again, Your guess is too small!\")\n",
        "  elif x<guess:\n",
        "    print(\"Try again, Your guess is too big!\")\n",
        "\n",
        "  if count >= guess:\n",
        "    print(\"The required number is %d\",x,\"\\n Better luck next time!\")\n"
      ],
      "metadata": {
        "colab": {
          "base_uri": "https://localhost:8080/"
        },
        "id": "kMFO_yJjzhUz",
        "outputId": "32757cb7-f703-46a5-e414-bb22f2ec82f9"
      },
      "execution_count": 8,
      "outputs": [
        {
          "output_type": "stream",
          "name": "stdout",
          "text": [
            "Enter a lower range: 1\n",
            "Enter an upper range: 50\n",
            "You have only  6  chances to guess the integer\n",
            "Guess a number:- 10\n",
            "Try again, Your guess is too small!\n",
            "Guess a number:- 30\n",
            "Try again, Your guess is too big!\n",
            "Guess a number:- 18\n",
            "Try again, Your guess is too big!\n",
            "Guess a number:- 14\n",
            "Try again, Your guess is too big!\n",
            "Guess a number:- 12\n",
            "Congratulations you guessed it in  5 attempt\n"
          ]
        }
      ]
    },
    {
      "cell_type": "code",
      "source": [],
      "metadata": {
        "id": "YoekJbhS4Oxf"
      },
      "execution_count": null,
      "outputs": []
    },
    {
      "cell_type": "code",
      "source": [],
      "metadata": {
        "id": "9-TUKA6u4ErT"
      },
      "execution_count": null,
      "outputs": []
    }
  ]
}